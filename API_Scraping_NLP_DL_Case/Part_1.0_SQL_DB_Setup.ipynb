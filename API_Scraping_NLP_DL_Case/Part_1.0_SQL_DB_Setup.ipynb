{
 "cells": [
  {
   "attachments": {},
   "cell_type": "markdown",
   "metadata": {},
   "source": [
    "## MySQL Connection Test"
   ]
  },
  {
   "attachments": {},
   "cell_type": "markdown",
   "metadata": {},
   "source": [
    "pip install mysql-connector-python"
   ]
  },
  {
   "cell_type": "code",
   "execution_count": 1,
   "metadata": {},
   "outputs": [],
   "source": [
    "import mysql.connector"
   ]
  },
  {
   "cell_type": "code",
   "execution_count": 2,
   "metadata": {},
   "outputs": [],
   "source": [
    "# Build a connection to the DB\n",
    "db = mysql.connector.connect(\n",
    "    host=\"localhost\",\n",
    "    user=\"root\",\n",
    "    passwd=\"password\",\n",
    "    database=\"pytestdb\"\n",
    "    )"
   ]
  },
  {
   "cell_type": "code",
   "execution_count": 3,
   "metadata": {},
   "outputs": [],
   "source": [
    "#define my cursor\n",
    "mycursor = db.cursor()\n",
    "# mycursor.execute(\"CREATE DATABASE pytestdb\")"
   ]
  },
  {
   "cell_type": "code",
   "execution_count": 4,
   "metadata": {},
   "outputs": [],
   "source": [
    "#Create a first table from Python\n",
    "mycursor.execute(\"CREATE TABLE reviews (location VARCHAR(100), comment VARCHAR(500), rating int, avg_rating float, reviewID int PRIMARY KEY AUTO_INCREMENT)\")\n"
   ]
  },
  {
   "cell_type": "code",
   "execution_count": 6,
   "metadata": {},
   "outputs": [
    {
     "name": "stdout",
     "output_type": "stream",
     "text": [
      "('location', b'varchar(100)', 'YES', '', None, '')\n",
      "('comment', b'varchar(500)', 'YES', '', None, '')\n",
      "('rating', b'int', 'YES', '', None, '')\n",
      "('avg_rating', b'float', 'YES', '', None, '')\n",
      "('reviewID', b'int', 'NO', 'PRI', None, 'auto_increment')\n"
     ]
    }
   ],
   "source": [
    "#Create a first request from Python\n",
    "mycursor.execute(\"DESCRIBE reviews\")\n",
    "for x in mycursor:\n",
    "    print(x)"
   ]
  }
 ],
 "metadata": {
  "kernelspec": {
   "display_name": "Python 3 (ipykernel)",
   "language": "python",
   "name": "python3"
  },
  "language_info": {
   "codemirror_mode": {
    "name": "ipython",
    "version": 3
   },
   "file_extension": ".py",
   "mimetype": "text/x-python",
   "name": "python",
   "nbconvert_exporter": "python",
   "pygments_lexer": "ipython3",
   "version": "3.10.9"
  }
 },
 "nbformat": 4,
 "nbformat_minor": 4
}

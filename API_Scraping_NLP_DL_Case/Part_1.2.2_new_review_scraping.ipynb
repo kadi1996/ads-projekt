{
 "cells": [
  {
   "attachments": {},
   "cell_type": "markdown",
   "id": "cce09847",
   "metadata": {},
   "source": [
    "### Searching closest pub on google and scraping comments for further analysis"
   ]
  },
  {
   "cell_type": "code",
   "execution_count": 1,
   "id": "86e3e88a",
   "metadata": {},
   "outputs": [
    {
     "name": "stdout",
     "output_type": "stream",
     "text": [
      "Current working directory: c:\\Users\\Roger\\Desktop\\WI22\\applied_data_science\\ADS_PROJECT\\scraping-reviews-from-googlemaps-main\n"
     ]
    }
   ],
   "source": [
    "# Libraries\n",
    "import os\n",
    "import time\n",
    "import random\n",
    "import pandas as pd\n",
    "\n",
    "from selenium import webdriver\n",
    "from selenium.webdriver.common.by import By\n",
    "from selenium.webdriver.common.keys import Keys\n",
    "from selenium.webdriver.chrome.options import Options\n",
    "from selenium.webdriver.chrome.service import Service\n",
    "from selenium.webdriver.support.ui import WebDriverWait\n",
    "from webdriver_manager.chrome import ChromeDriverManager\n",
    "from selenium.webdriver.support import expected_conditions as EC\n",
    "\n",
    "# Settings\n",
    "import warnings\n",
    "warnings.filterwarnings(\"ignore\")\n",
    "\n",
    "# Current working directory\n",
    "print(f'Current working directory: {os.getcwd()}')\n",
    "\n",
    "\n"
   ]
  },
  {
   "attachments": {},
   "cell_type": "markdown",
   "id": "365f38b0",
   "metadata": {},
   "source": [
    "## Define Pub to search for as of closest pub analysis"
   ]
  },
  {
   "cell_type": "code",
   "execution_count": 2,
   "id": "62785f8a",
   "metadata": {},
   "outputs": [
    {
     "name": "stdout",
     "output_type": "stream",
     "text": [
      "Old Gregory Pub, Zürich\n"
     ]
    }
   ],
   "source": [
    "# Read the pub name from the text file\n",
    "with open('best_pub_name.txt', 'r') as f:\n",
    "    pub_name = f.read().strip()\n",
    "\n",
    "print(pub_name)"
   ]
  },
  {
   "cell_type": "code",
   "execution_count": 4,
   "id": "befc8dc3",
   "metadata": {},
   "outputs": [
    {
     "name": "stdout",
     "output_type": "stream",
     "text": [
      "Comment:  Wenn man nichts bestellt, obwohl alle anderen von der Gruppe etwas bestellt haben, wird man dumm angemacht. Wenn man dann mal etwas bestellt, kann man dies fast nicht trinken, da es so schlecht schmeckt. Die Barkeeperin ist so unfreundlich und frech. Absolut nicht empfehlenswert.\n",
      "Comment:  Alle Mitarbeiterinnen an der Bar sind so aggressiv und grob. Obwohl ich schon ein Bier bestellt hatte, musste ich nach kurzer Zeit noch etwas anderes bestellen. Ich wurde praktisch erzwungen, sonst wäre ich rausgeschmissen worden. Unglaublich. Nie wieder hier.\n",
      "Comment:  Die schlechten Bewertungen bei Google konnten wir gar nicht verstehen! Die Bedienung war sehr nett und hilfsbereit und auch der DJ (Dietschi) war mega cool! Wir hatten einen tollen Karaoke Abend, Zehn Punkte-gerne wieder!\n",
      "Comment:  Leider eher eine Ü40 Bar. Angestellte waren ausserdem enorm unfreundlich und aggressiv. 5 Minuten nach Ankunft in der Bar wurden wir aggressiv vom Personal angemacht, wir sollten uns endlich etwas kaufen ansonsten werfen sie uns raus. 0/10\n",
      "Comment:  Personal sehr arrogant & agressiv!\n",
      "Nach gefüllt 5min in der Bar, gezwungen worden etwas zu trinken zu bestellen und sogar bedroht worden, dass sie mich und meine Gruppe aus dee Bar rausschmeisen …\n",
      "Comment:  Uns wurde aus unnachvollziehbaren Gründen Respektlosigkeit vorgeworfen... Schlechter Tag der Barkeeperin?\n",
      "Wir suchen uns in Zukunft andere Locations für unsere Karaoke-Abende.\n",
      "Comment:  Nettes Pub\n",
      "Leider fängt der Karaoke-Abend erst um 22:00 an, wesshalb wir nicht so lange bleiben konnten.\n",
      "Comment:  Anständige, professionelle DJ‘s, Serviceangestellte, und sauberes Ambiente!😎🤘🌟 danke für Eure Arbeit!✌️ …\n",
      "Comment:  Personal ist ziemlich unfreundlich und kleinlich. Einen Becher Wasser vom öffentlichen Brunnen darf man nicht mit reinnehmen und für Hahnewasser wird 3CHF berechnet. Location ist auch ziemlich langweilig. Platz fürs zusammen singen und …\n",
      "Comment:  Gestern fauchte eine genervte unfreundliche Barfrau meine schwangere Frau an und meinte ab jetzt bitte nur noch alkoholische Getränke und keine Cola mehr bestellen. Geht's noch? Komm mal klar mit Deinem Job.\n",
      "Rating:  3,8\n"
     ]
    }
   ],
   "source": [
    "# Set options for Chrome-Driver (regular mode)\n",
    "opts = Options()\n",
    "opts.add_argument(\"--window-size=1000,1200\")\n",
    "ua_list = [\n",
    "    \"Mozilla/5.0 (Windows NT 10.0; Win64; x64) AppleWebKit/537.36 (KHTML, like Gecko) Chrome/58.0.3029.110 Safari/537.3\",\n",
    "    \"Mozilla/5.0 (Windows NT 6.1; Win64; x64) AppleWebKit/537.36 (KHTML, like Gecko) Chrome/58.0.3029.110 Safari/537.3\",\n",
    "    \"Mozilla/5.0 (Windows NT 10.0; Win64; x64) AppleWebKit/537.36 (KHTML, like Gecko) Chrome/79.0.3945.88 Safari/537.36\",\n",
    "    \"Mozilla/5.0 (Windows NT 10.0; Win64; x64; rv:64.0) Gecko/20100101 Firefox/64.0\",\n",
    "    \"Mozilla/5.0 (Windows NT 6.1; Win64; x64) AppleWebKit/537.36 (KHTML, like Gecko) Chrome/64.0.3282.140 Safari/537.36 Edge/17.17134\",\n",
    "    \"Mozilla/5.0 (Windows NT 10.0; Win64; x64) AppleWebKit/537.36 (KHTML, like Gecko) Chrome/74.0.3729.169 Safari/537.36\",\n",
    "    \"Mozilla/5.0 (Windows NT 6.1; Win64; x64) AppleWebKit/537.36 (KHTML, like Gecko) Chrome/74.0.3729.169 Safari/537.36\",\n",
    "    \"Mozilla/5.0 (Windows NT 6.1; Win64; x64; rv:64.0) Gecko/20100101 Firefox/64.0\"\n",
    "]\n",
    "opts.add_argument(\"user-agent=\" + random.choice(ua_list))\n",
    "driver = webdriver.Chrome(service=Service(ChromeDriverManager().install()), options=opts)\n",
    "\n",
    "# Website to scrape\n",
    "driver.get('https://www.google.ch/maps')\n",
    "\n",
    "# Click on the \"Accept\" button for the cookies popup\n",
    "try:\n",
    "    accept_button = WebDriverWait(driver, 10).until(\n",
    "        EC.presence_of_element_located((By.XPATH, \"//button[contains(@aria-label, 'Alle ablehnen')]\"))\n",
    "    )\n",
    "    accept_button.click()\n",
    "except:\n",
    "    pass\n",
    "\n",
    "# Search for location\n",
    "search_box = driver.find_element(By.XPATH, \"//input[@name='q']\")\n",
    "search_box.send_keys(pub_name)\n",
    "search_box.send_keys(Keys.RETURN)\n",
    "\n",
    "# Wait for search results to load\n",
    "# WebDriverWait(driver, 15).until(EC.presence_of_element_located((By.XPATH, \"//h1[contains(text(),'Gregory')]\")))\n",
    "\n",
    "# Click on the location\n",
    "# driver.find_element(By.XPATH, \"//h1[contains(text(),'Gregory')]\").click()\n",
    "\n",
    "\n",
    "\n",
    "# Wait for the location page to load and click on \"Rezensionen\"\n",
    "try:\n",
    "    review_section = WebDriverWait(driver, 15).until(EC.element_to_be_clickable((By.XPATH, \"//span[contains(text(),'Rezensionen')]\")))\n",
    "    review_section.click()\n",
    "except:\n",
    "    pass\n",
    "\n",
    "# Scroll down to load more reviews dynamically\n",
    "SCROLL_PAUSE_TIME = 6\n",
    "last_height = driver.execute_script(\"return document.body.scrollHeight\")\n",
    "while True:\n",
    "    driver.execute_script(\"window.scrollTo(0, document.body.scrollHeight);\")\n",
    "    time.sleep(SCROLL_PAUSE_TIME)\n",
    "    new_height = driver.execute_script(\"return document.body.scrollHeight\")\n",
    "    if new_height == last_height:\n",
    "        break\n",
    "    last_height = new_height\n",
    "\n",
    "# Extract all comments using the class name\n",
    "reviews = driver.find_elements(By.CSS_SELECTOR, \"span.wiI7pd\")\n",
    "for review in reviews:\n",
    "    print(\"Comment: \", review.text)\n",
    "\n",
    "# Extract rating using the xpath name\n",
    "rating_element = driver.find_element(By.XPATH, \"/html/body/div[3]/div[9]/div[9]/div/div/div[1]/div[2]/div/div[1]/div/div/div[3]/div[2]/div/div[2]/div[1]\")\n",
    "rating = rating_element.text\n",
    "print(\"Rating: \", rating)\n",
    "\n",
    "driver.quit()"
   ]
  }
 ],
 "metadata": {
  "kernelspec": {
   "display_name": "Python 3",
   "language": "python",
   "name": "python3"
  },
  "language_info": {
   "codemirror_mode": {
    "name": "ipython",
    "version": 3
   },
   "file_extension": ".py",
   "mimetype": "text/x-python",
   "name": "python",
   "nbconvert_exporter": "python",
   "pygments_lexer": "ipython3",
   "version": "3.10.9"
  },
  "vscode": {
   "interpreter": {
    "hash": "0c91b9cda141cebb30eec1a9e537ad58842c9f54da60c0fda28ac01b57846336"
   }
  }
 },
 "nbformat": 4,
 "nbformat_minor": 5
}
